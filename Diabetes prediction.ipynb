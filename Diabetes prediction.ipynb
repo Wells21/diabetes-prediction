{
 "cells": [
  {
   "cell_type": "markdown",
   "id": "261e4fa8",
   "metadata": {},
   "source": [
    "# Diabetes prediction"
   ]
  },
  {
   "cell_type": "markdown",
   "id": "33e6658a",
   "metadata": {},
   "source": [
    "## About Dataset\n",
    "\n",
    "The Diabetes prediction dataset is a collection of medical and demographic data from patients, along with their diabetes status (positive or negative). The data includes features such as age, gender, body mass index (BMI), hypertension, heart disease, smoking history, HbA1c level, and blood glucose level. This dataset would be used to build machine learning models to predict diabetes in patients based on their medical history and demographic information. This can be useful for healthcare professionals in identifying patients who may be at risk of developing diabetes and in developing personalized treatment plans. Additionally, the dataset can be used by researchers to explore the relationships between various medical and demographic factors and the likelihood of developing diabetes."
   ]
  },
  {
   "cell_type": "markdown",
   "id": "bba76867",
   "metadata": {},
   "source": [
    "**Understanding the data**\n",
    "\n",
    "*Gender*: Gender refers to the biological sex of the individual, which can have an impact on their susceptibility to diabetes.\n",
    "\n",
    "*Age*: Age is an important factor as diabetes is more commonly diagnosed in older adults. Age ranges from 0-80 in our dataset.\n",
    "\n",
    "*Hypertension*: Hypertension is a medical condition in which the blood pressure in the arteries is persistently elevated. It has values of 0 as False, and 1 as True\n",
    "\n",
    "*Heart disease*: Heart disease is another medical condition that is associated with an increased risk of developing diabetes.\n",
    "\n",
    "*BMI*: BMI (Body Mass Index) is a measure of body fat based on weight and height. Higher BMI values are linked to a higher risk of diabetes\n",
    "\n",
    "*HbA1c*: HbA1c (Hemoglobin A1c) level is a measure of a person's average blood sugar level over the past 2-3 months.\n",
    "\n",
    "*Blood glucose*: Blood glucose level refers to the amount of glucose in the bloodstream at a given time.\n",
    "\n",
    "*Diabetes*: Diabetes is the target variable being predicted, with values of 1 indicating the presence of diabetes and 0 indicating the absence of diabetes"
   ]
  },
  {
   "cell_type": "code",
   "execution_count": 1,
   "id": "a45270e9",
   "metadata": {},
   "outputs": [],
   "source": [
    "import os\n",
    "import pandas as pd"
   ]
  },
  {
   "cell_type": "code",
   "execution_count": 2,
   "id": "9500942c",
   "metadata": {
    "scrolled": true
   },
   "outputs": [
    {
     "data": {
      "text/plain": [
       "'C:\\\\Users\\\\WELLS\\\\Documents\\\\rebuilding portfolio projects\\\\machine learning\\\\diabetes prediction'"
      ]
     },
     "execution_count": 2,
     "metadata": {},
     "output_type": "execute_result"
    }
   ],
   "source": [
    "os.getcwd()"
   ]
  },
  {
   "cell_type": "code",
   "execution_count": 3,
   "id": "cc7d5736",
   "metadata": {},
   "outputs": [],
   "source": [
    "df = pd.read_csv(r'C:\\\\Users\\\\WELLS\\\\Documents\\\\rebuilding portfolio projects\\\\machine learning\\\\diabetes prediction\\\\diabetes_prediction_dataset.csv')"
   ]
  },
  {
   "cell_type": "code",
   "execution_count": 4,
   "id": "39e32784",
   "metadata": {},
   "outputs": [
    {
     "data": {
      "text/plain": [
       "(100000, 9)"
      ]
     },
     "execution_count": 4,
     "metadata": {},
     "output_type": "execute_result"
    }
   ],
   "source": [
    "df.shape"
   ]
  },
  {
   "cell_type": "code",
   "execution_count": 5,
   "id": "3c8f32d1",
   "metadata": {},
   "outputs": [
    {
     "data": {
      "text/html": [
       "<div>\n",
       "<style scoped>\n",
       "    .dataframe tbody tr th:only-of-type {\n",
       "        vertical-align: middle;\n",
       "    }\n",
       "\n",
       "    .dataframe tbody tr th {\n",
       "        vertical-align: top;\n",
       "    }\n",
       "\n",
       "    .dataframe thead th {\n",
       "        text-align: right;\n",
       "    }\n",
       "</style>\n",
       "<table border=\"1\" class=\"dataframe\">\n",
       "  <thead>\n",
       "    <tr style=\"text-align: right;\">\n",
       "      <th></th>\n",
       "      <th>gender</th>\n",
       "      <th>age</th>\n",
       "      <th>hypertension</th>\n",
       "      <th>heart_disease</th>\n",
       "      <th>smoking_history</th>\n",
       "      <th>bmi</th>\n",
       "      <th>HbA1c_level</th>\n",
       "      <th>blood_glucose_level</th>\n",
       "      <th>diabetes</th>\n",
       "    </tr>\n",
       "  </thead>\n",
       "  <tbody>\n",
       "    <tr>\n",
       "      <th>0</th>\n",
       "      <td>Female</td>\n",
       "      <td>80.0</td>\n",
       "      <td>0</td>\n",
       "      <td>1</td>\n",
       "      <td>never</td>\n",
       "      <td>25.19</td>\n",
       "      <td>6.6</td>\n",
       "      <td>140</td>\n",
       "      <td>0</td>\n",
       "    </tr>\n",
       "    <tr>\n",
       "      <th>1</th>\n",
       "      <td>Female</td>\n",
       "      <td>54.0</td>\n",
       "      <td>0</td>\n",
       "      <td>0</td>\n",
       "      <td>No Info</td>\n",
       "      <td>27.32</td>\n",
       "      <td>6.6</td>\n",
       "      <td>80</td>\n",
       "      <td>0</td>\n",
       "    </tr>\n",
       "    <tr>\n",
       "      <th>2</th>\n",
       "      <td>Male</td>\n",
       "      <td>28.0</td>\n",
       "      <td>0</td>\n",
       "      <td>0</td>\n",
       "      <td>never</td>\n",
       "      <td>27.32</td>\n",
       "      <td>5.7</td>\n",
       "      <td>158</td>\n",
       "      <td>0</td>\n",
       "    </tr>\n",
       "    <tr>\n",
       "      <th>3</th>\n",
       "      <td>Female</td>\n",
       "      <td>36.0</td>\n",
       "      <td>0</td>\n",
       "      <td>0</td>\n",
       "      <td>current</td>\n",
       "      <td>23.45</td>\n",
       "      <td>5.0</td>\n",
       "      <td>155</td>\n",
       "      <td>0</td>\n",
       "    </tr>\n",
       "    <tr>\n",
       "      <th>4</th>\n",
       "      <td>Male</td>\n",
       "      <td>76.0</td>\n",
       "      <td>1</td>\n",
       "      <td>1</td>\n",
       "      <td>current</td>\n",
       "      <td>20.14</td>\n",
       "      <td>4.8</td>\n",
       "      <td>155</td>\n",
       "      <td>0</td>\n",
       "    </tr>\n",
       "  </tbody>\n",
       "</table>\n",
       "</div>"
      ],
      "text/plain": [
       "   gender   age  hypertension  heart_disease smoking_history    bmi  \\\n",
       "0  Female  80.0             0              1           never  25.19   \n",
       "1  Female  54.0             0              0         No Info  27.32   \n",
       "2    Male  28.0             0              0           never  27.32   \n",
       "3  Female  36.0             0              0         current  23.45   \n",
       "4    Male  76.0             1              1         current  20.14   \n",
       "\n",
       "   HbA1c_level  blood_glucose_level  diabetes  \n",
       "0          6.6                  140         0  \n",
       "1          6.6                   80         0  \n",
       "2          5.7                  158         0  \n",
       "3          5.0                  155         0  \n",
       "4          4.8                  155         0  "
      ]
     },
     "execution_count": 5,
     "metadata": {},
     "output_type": "execute_result"
    }
   ],
   "source": [
    "df.head()"
   ]
  },
  {
   "cell_type": "code",
   "execution_count": 6,
   "id": "6e656e59",
   "metadata": {},
   "outputs": [
    {
     "data": {
      "text/plain": [
       "array(['never', 'No Info', 'current', 'former', 'ever', 'not current'],\n",
       "      dtype=object)"
      ]
     },
     "execution_count": 6,
     "metadata": {},
     "output_type": "execute_result"
    }
   ],
   "source": [
    "# getting the unique values the smoking_history varaible is holding\n",
    "df.smoking_history.unique()"
   ]
  },
  {
   "cell_type": "markdown",
   "id": "f7003a9a",
   "metadata": {},
   "source": [
    "### Data Cleaning"
   ]
  },
  {
   "cell_type": "code",
   "execution_count": 7,
   "id": "e3277c1b",
   "metadata": {
    "scrolled": true
   },
   "outputs": [
    {
     "name": "stdout",
     "output_type": "stream",
     "text": [
      "<class 'pandas.core.frame.DataFrame'>\n",
      "RangeIndex: 100000 entries, 0 to 99999\n",
      "Data columns (total 9 columns):\n",
      " #   Column               Non-Null Count   Dtype  \n",
      "---  ------               --------------   -----  \n",
      " 0   gender               100000 non-null  object \n",
      " 1   age                  100000 non-null  float64\n",
      " 2   hypertension         100000 non-null  int64  \n",
      " 3   heart_disease        100000 non-null  int64  \n",
      " 4   smoking_history      100000 non-null  object \n",
      " 5   bmi                  100000 non-null  float64\n",
      " 6   HbA1c_level          100000 non-null  float64\n",
      " 7   blood_glucose_level  100000 non-null  int64  \n",
      " 8   diabetes             100000 non-null  int64  \n",
      "dtypes: float64(3), int64(4), object(2)\n",
      "memory usage: 6.9+ MB\n"
     ]
    }
   ],
   "source": [
    "# checking for missing values, datatypes\n",
    "df.info()"
   ]
  },
  {
   "cell_type": "markdown",
   "id": "2776d4a0",
   "metadata": {},
   "source": [
    "----"
   ]
  },
  {
   "cell_type": "markdown",
   "id": "944ec3ac",
   "metadata": {},
   "source": [
    "With a total observations of 100,000 rows, we have a non-null total of 100,000, therefore the dataset contains no missing values"
   ]
  },
  {
   "cell_type": "markdown",
   "id": "7c0e3ef5",
   "metadata": {},
   "source": [
    "----"
   ]
  },
  {
   "cell_type": "code",
   "execution_count": 8,
   "id": "668a08b8",
   "metadata": {},
   "outputs": [],
   "source": [
    "# checking for duplicates\n",
    "duplicates = df.duplicated()"
   ]
  },
  {
   "cell_type": "code",
   "execution_count": 9,
   "id": "66a4c65f",
   "metadata": {},
   "outputs": [],
   "source": [
    "df['duplicates'] = duplicates"
   ]
  },
  {
   "cell_type": "code",
   "execution_count": 10,
   "id": "553fc948",
   "metadata": {},
   "outputs": [],
   "source": [
    "# filter rows that contains duplicates\n",
    "df_filtered = df[df.duplicates == False]"
   ]
  },
  {
   "cell_type": "code",
   "execution_count": 11,
   "id": "08529b8a",
   "metadata": {},
   "outputs": [
    {
     "data": {
      "text/plain": [
       "(96146, 10)"
      ]
     },
     "execution_count": 11,
     "metadata": {},
     "output_type": "execute_result"
    }
   ],
   "source": [
    "df_filtered.shape"
   ]
  },
  {
   "cell_type": "code",
   "execution_count": 12,
   "id": "b6988f3e",
   "metadata": {},
   "outputs": [
    {
     "name": "stdout",
     "output_type": "stream",
     "text": [
      "The total rows that contained duplicates is 3854\n"
     ]
    }
   ],
   "source": [
    "print(\"The total rows that contained duplicates is {}\".format(100000 - 96146))"
   ]
  },
  {
   "cell_type": "markdown",
   "id": "2f2e7063",
   "metadata": {},
   "source": [
    "**Performing a statistical test on the smoking variable with the target variable, to understand if it is a predictive variable on the target**"
   ]
  },
  {
   "attachments": {
    "res.JPG": {
     "image/jpeg": "[encoded data removed]"
    }
   },
   "cell_type": "markdown",
   "id": "52ba402a",
   "metadata": {},
   "source": [
    "![res.JPG](attachment:res.JPG)"
   ]
  },
  {
   "cell_type": "markdown",
   "id": "b194ca60",
   "metadata": {},
   "source": [
    "This Symmetric measures has a range of 0 - 1, indicating (small effect - large effect), this implies that the predictor variable (smoking_history) has a very very little effect on the target variable (diabetes), and would not be added in building our model"
   ]
  },
  {
   "cell_type": "code",
   "execution_count": 13,
   "id": "5ac25ad3",
   "metadata": {},
   "outputs": [
    {
     "name": "stderr",
     "output_type": "stream",
     "text": [
      "C:\\Users\\WELLS\\AppData\\Local\\Temp\\ipykernel_14144\\132375567.py:2: SettingWithCopyWarning: \n",
      "A value is trying to be set on a copy of a slice from a DataFrame\n",
      "\n",
      "See the caveats in the documentation: https://pandas.pydata.org/pandas-docs/stable/user_guide/indexing.html#returning-a-view-versus-a-copy\n",
      "  df_filtered.drop(columns = ['duplicates', 'smoking_history'], inplace = True)\n"
     ]
    }
   ],
   "source": [
    "# dropping the duplicates, smoking_history column\n",
    "df_filtered.drop(columns = ['duplicates', 'smoking_history'], inplace = True)"
   ]
  },
  {
   "cell_type": "code",
   "execution_count": 14,
   "id": "2b3a7e14",
   "metadata": {},
   "outputs": [],
   "source": [
    "# filtering out the gender column that contains \"other\"\n",
    "df_filtered = df_filtered[df_filtered.gender != 'Other']"
   ]
  },
  {
   "cell_type": "markdown",
   "id": "7c2e6e0c",
   "metadata": {},
   "source": [
    "### Data Processing"
   ]
  },
  {
   "cell_type": "code",
   "execution_count": 15,
   "id": "a30768ae",
   "metadata": {},
   "outputs": [
    {
     "data": {
      "text/plain": [
       "array(['Female', 'Male'], dtype=object)"
      ]
     },
     "execution_count": 15,
     "metadata": {},
     "output_type": "execute_result"
    }
   ],
   "source": [
    "df_filtered.gender.unique()"
   ]
  },
  {
   "cell_type": "code",
   "execution_count": 16,
   "id": "04422ce7",
   "metadata": {},
   "outputs": [],
   "source": [
    "# mapping the gender column to Male : 1, Female : 0\n",
    "df_filtered['gender'] = df_filtered['gender'].map({'Male': 1, 'Female': 0})"
   ]
  },
  {
   "cell_type": "code",
   "execution_count": 17,
   "id": "24475e20",
   "metadata": {},
   "outputs": [
    {
     "data": {
      "text/html": [
       "<div>\n",
       "<style scoped>\n",
       "    .dataframe tbody tr th:only-of-type {\n",
       "        vertical-align: middle;\n",
       "    }\n",
       "\n",
       "    .dataframe tbody tr th {\n",
       "        vertical-align: top;\n",
       "    }\n",
       "\n",
       "    .dataframe thead th {\n",
       "        text-align: right;\n",
       "    }\n",
       "</style>\n",
       "<table border=\"1\" class=\"dataframe\">\n",
       "  <thead>\n",
       "    <tr style=\"text-align: right;\">\n",
       "      <th></th>\n",
       "      <th>gender</th>\n",
       "      <th>age</th>\n",
       "      <th>hypertension</th>\n",
       "      <th>heart_disease</th>\n",
       "      <th>bmi</th>\n",
       "      <th>HbA1c_level</th>\n",
       "      <th>blood_glucose_level</th>\n",
       "      <th>diabetes</th>\n",
       "    </tr>\n",
       "  </thead>\n",
       "  <tbody>\n",
       "    <tr>\n",
       "      <th>0</th>\n",
       "      <td>0</td>\n",
       "      <td>80.0</td>\n",
       "      <td>0</td>\n",
       "      <td>1</td>\n",
       "      <td>25.19</td>\n",
       "      <td>6.6</td>\n",
       "      <td>140</td>\n",
       "      <td>0</td>\n",
       "    </tr>\n",
       "    <tr>\n",
       "      <th>1</th>\n",
       "      <td>0</td>\n",
       "      <td>54.0</td>\n",
       "      <td>0</td>\n",
       "      <td>0</td>\n",
       "      <td>27.32</td>\n",
       "      <td>6.6</td>\n",
       "      <td>80</td>\n",
       "      <td>0</td>\n",
       "    </tr>\n",
       "    <tr>\n",
       "      <th>2</th>\n",
       "      <td>1</td>\n",
       "      <td>28.0</td>\n",
       "      <td>0</td>\n",
       "      <td>0</td>\n",
       "      <td>27.32</td>\n",
       "      <td>5.7</td>\n",
       "      <td>158</td>\n",
       "      <td>0</td>\n",
       "    </tr>\n",
       "    <tr>\n",
       "      <th>3</th>\n",
       "      <td>0</td>\n",
       "      <td>36.0</td>\n",
       "      <td>0</td>\n",
       "      <td>0</td>\n",
       "      <td>23.45</td>\n",
       "      <td>5.0</td>\n",
       "      <td>155</td>\n",
       "      <td>0</td>\n",
       "    </tr>\n",
       "    <tr>\n",
       "      <th>4</th>\n",
       "      <td>1</td>\n",
       "      <td>76.0</td>\n",
       "      <td>1</td>\n",
       "      <td>1</td>\n",
       "      <td>20.14</td>\n",
       "      <td>4.8</td>\n",
       "      <td>155</td>\n",
       "      <td>0</td>\n",
       "    </tr>\n",
       "  </tbody>\n",
       "</table>\n",
       "</div>"
      ],
      "text/plain": [
       "   gender   age  hypertension  heart_disease    bmi  HbA1c_level  \\\n",
       "0       0  80.0             0              1  25.19          6.6   \n",
       "1       0  54.0             0              0  27.32          6.6   \n",
       "2       1  28.0             0              0  27.32          5.7   \n",
       "3       0  36.0             0              0  23.45          5.0   \n",
       "4       1  76.0             1              1  20.14          4.8   \n",
       "\n",
       "   blood_glucose_level  diabetes  \n",
       "0                  140         0  \n",
       "1                   80         0  \n",
       "2                  158         0  \n",
       "3                  155         0  \n",
       "4                  155         0  "
      ]
     },
     "execution_count": 17,
     "metadata": {},
     "output_type": "execute_result"
    }
   ],
   "source": [
    "df_filtered.head()"
   ]
  },
  {
   "cell_type": "code",
   "execution_count": 18,
   "id": "ad48b758",
   "metadata": {},
   "outputs": [],
   "source": [
    "X = df_filtered.drop(columns = ['diabetes'])"
   ]
  },
  {
   "cell_type": "code",
   "execution_count": 19,
   "id": "ce380a3b",
   "metadata": {},
   "outputs": [],
   "source": [
    "y = df_filtered['diabetes']"
   ]
  },
  {
   "cell_type": "code",
   "execution_count": 20,
   "id": "535bd369",
   "metadata": {},
   "outputs": [
    {
     "data": {
      "text/html": [
       "<div>\n",
       "<style scoped>\n",
       "    .dataframe tbody tr th:only-of-type {\n",
       "        vertical-align: middle;\n",
       "    }\n",
       "\n",
       "    .dataframe tbody tr th {\n",
       "        vertical-align: top;\n",
       "    }\n",
       "\n",
       "    .dataframe thead th {\n",
       "        text-align: right;\n",
       "    }\n",
       "</style>\n",
       "<table border=\"1\" class=\"dataframe\">\n",
       "  <thead>\n",
       "    <tr style=\"text-align: right;\">\n",
       "      <th></th>\n",
       "      <th>gender</th>\n",
       "      <th>age</th>\n",
       "      <th>hypertension</th>\n",
       "      <th>heart_disease</th>\n",
       "      <th>bmi</th>\n",
       "      <th>HbA1c_level</th>\n",
       "      <th>blood_glucose_level</th>\n",
       "    </tr>\n",
       "  </thead>\n",
       "  <tbody>\n",
       "    <tr>\n",
       "      <th>0</th>\n",
       "      <td>0</td>\n",
       "      <td>80.0</td>\n",
       "      <td>0</td>\n",
       "      <td>1</td>\n",
       "      <td>25.19</td>\n",
       "      <td>6.6</td>\n",
       "      <td>140</td>\n",
       "    </tr>\n",
       "    <tr>\n",
       "      <th>1</th>\n",
       "      <td>0</td>\n",
       "      <td>54.0</td>\n",
       "      <td>0</td>\n",
       "      <td>0</td>\n",
       "      <td>27.32</td>\n",
       "      <td>6.6</td>\n",
       "      <td>80</td>\n",
       "    </tr>\n",
       "    <tr>\n",
       "      <th>2</th>\n",
       "      <td>1</td>\n",
       "      <td>28.0</td>\n",
       "      <td>0</td>\n",
       "      <td>0</td>\n",
       "      <td>27.32</td>\n",
       "      <td>5.7</td>\n",
       "      <td>158</td>\n",
       "    </tr>\n",
       "    <tr>\n",
       "      <th>3</th>\n",
       "      <td>0</td>\n",
       "      <td>36.0</td>\n",
       "      <td>0</td>\n",
       "      <td>0</td>\n",
       "      <td>23.45</td>\n",
       "      <td>5.0</td>\n",
       "      <td>155</td>\n",
       "    </tr>\n",
       "    <tr>\n",
       "      <th>4</th>\n",
       "      <td>1</td>\n",
       "      <td>76.0</td>\n",
       "      <td>1</td>\n",
       "      <td>1</td>\n",
       "      <td>20.14</td>\n",
       "      <td>4.8</td>\n",
       "      <td>155</td>\n",
       "    </tr>\n",
       "  </tbody>\n",
       "</table>\n",
       "</div>"
      ],
      "text/plain": [
       "   gender   age  hypertension  heart_disease    bmi  HbA1c_level  \\\n",
       "0       0  80.0             0              1  25.19          6.6   \n",
       "1       0  54.0             0              0  27.32          6.6   \n",
       "2       1  28.0             0              0  27.32          5.7   \n",
       "3       0  36.0             0              0  23.45          5.0   \n",
       "4       1  76.0             1              1  20.14          4.8   \n",
       "\n",
       "   blood_glucose_level  \n",
       "0                  140  \n",
       "1                   80  \n",
       "2                  158  \n",
       "3                  155  \n",
       "4                  155  "
      ]
     },
     "execution_count": 20,
     "metadata": {},
     "output_type": "execute_result"
    }
   ],
   "source": [
    "X.head()"
   ]
  },
  {
   "cell_type": "code",
   "execution_count": 21,
   "id": "00bcc47f",
   "metadata": {},
   "outputs": [
    {
     "data": {
      "text/plain": [
       "0    0\n",
       "1    0\n",
       "2    0\n",
       "3    0\n",
       "4    0\n",
       "Name: diabetes, dtype: int64"
      ]
     },
     "execution_count": 21,
     "metadata": {},
     "output_type": "execute_result"
    }
   ],
   "source": [
    "y.head()"
   ]
  },
  {
   "cell_type": "markdown",
   "id": "1b539474",
   "metadata": {},
   "source": [
    "## Model Building"
   ]
  },
  {
   "cell_type": "code",
   "execution_count": 22,
   "id": "7dbae08f",
   "metadata": {},
   "outputs": [],
   "source": [
    "from sklearn.model_selection import train_test_split\n",
    "from sklearn.preprocessing import StandardScaler, RobustScaler, MinMaxScaler\n",
    "from sklearn.linear_model import LogisticRegression\n",
    "from sklearn.metrics import accuracy_score, classification_report, confusion_matrix, precision_score, recall_score, f1_score\n",
    "from sklearn.model_selection import GridSearchCV\n",
    "from sklearn.ensemble import RandomForestClassifier"
   ]
  },
  {
   "cell_type": "code",
   "execution_count": 23,
   "id": "77d6baee",
   "metadata": {},
   "outputs": [],
   "source": [
    "X_train, X_test, y_train, y_test = train_test_split(X, y, test_size=0.2, random_state=42)"
   ]
  },
  {
   "cell_type": "code",
   "execution_count": 24,
   "id": "d80643d2",
   "metadata": {},
   "outputs": [
    {
     "name": "stdout",
     "output_type": "stream",
     "text": [
      "(76902, 7)\n",
      "(19226, 7)\n"
     ]
    }
   ],
   "source": [
    "print(X_train.shape)\n",
    "print(X_test.shape)"
   ]
  },
  {
   "cell_type": "code",
   "execution_count": 25,
   "id": "f6520926",
   "metadata": {},
   "outputs": [
    {
     "name": "stdout",
     "output_type": "stream",
     "text": [
      "(76902,)\n",
      "(19226,)\n"
     ]
    }
   ],
   "source": [
    "print(y_train.shape)\n",
    "print(y_test.shape)"
   ]
  },
  {
   "cell_type": "code",
   "execution_count": 26,
   "id": "5b29c256",
   "metadata": {},
   "outputs": [],
   "source": [
    "# scaling numeric features\n",
    "standard_scaler = StandardScaler()"
   ]
  },
  {
   "cell_type": "code",
   "execution_count": 27,
   "id": "6d46e7c3",
   "metadata": {},
   "outputs": [],
   "source": [
    "numeric_cols = ['gender', 'age', 'hypertension', 'heart_disease', 'bmi', 'HbA1c_level', 'blood_glucose_level']"
   ]
  },
  {
   "cell_type": "code",
   "execution_count": 28,
   "id": "f6426288",
   "metadata": {},
   "outputs": [
    {
     "data": {
      "text/html": [
       "<style>#sk-container-id-1 {color: black;background-color: white;}#sk-container-id-1 pre{padding: 0;}#sk-container-id-1 div.sk-toggleable {background-color: white;}#sk-container-id-1 label.sk-toggleable__label {cursor: pointer;display: block;width: 100%;margin-bottom: 0;padding: 0.3em;box-sizing: border-box;text-align: center;}#sk-container-id-1 label.sk-toggleable__label-arrow:before {content: \"▸\";float: left;margin-right: 0.25em;color: #696969;}#sk-container-id-1 label.sk-toggleable__label-arrow:hover:before {color: black;}#sk-container-id-1 div.sk-estimator:hover label.sk-toggleable__label-arrow:before {color: black;}#sk-container-id-1 div.sk-toggleable__content {max-height: 0;max-width: 0;overflow: hidden;text-align: left;background-color: #f0f8ff;}#sk-container-id-1 div.sk-toggleable__content pre {margin: 0.2em;color: black;border-radius: 0.25em;background-color: #f0f8ff;}#sk-container-id-1 input.sk-toggleable__control:checked~div.sk-toggleable__content {max-height: 200px;max-width: 100%;overflow: auto;}#sk-container-id-1 input.sk-toggleable__control:checked~label.sk-toggleable__label-arrow:before {content: \"▾\";}#sk-container-id-1 div.sk-estimator input.sk-toggleable__control:checked~label.sk-toggleable__label {background-color: #d4ebff;}#sk-container-id-1 div.sk-label input.sk-toggleable__control:checked~label.sk-toggleable__label {background-color: #d4ebff;}#sk-container-id-1 input.sk-hidden--visually {border: 0;clip: rect(1px 1px 1px 1px);clip: rect(1px, 1px, 1px, 1px);height: 1px;margin: -1px;overflow: hidden;padding: 0;position: absolute;width: 1px;}#sk-container-id-1 div.sk-estimator {font-family: monospace;background-color: #f0f8ff;border: 1px dotted black;border-radius: 0.25em;box-sizing: border-box;margin-bottom: 0.5em;}#sk-container-id-1 div.sk-estimator:hover {background-color: #d4ebff;}#sk-container-id-1 div.sk-parallel-item::after {content: \"\";width: 100%;border-bottom: 1px solid gray;flex-grow: 1;}#sk-container-id-1 div.sk-label:hover label.sk-toggleable__label {background-color: #d4ebff;}#sk-container-id-1 div.sk-serial::before {content: \"\";position: absolute;border-left: 1px solid gray;box-sizing: border-box;top: 0;bottom: 0;left: 50%;z-index: 0;}#sk-container-id-1 div.sk-serial {display: flex;flex-direction: column;align-items: center;background-color: white;padding-right: 0.2em;padding-left: 0.2em;position: relative;}#sk-container-id-1 div.sk-item {position: relative;z-index: 1;}#sk-container-id-1 div.sk-parallel {display: flex;align-items: stretch;justify-content: center;background-color: white;position: relative;}#sk-container-id-1 div.sk-item::before, #sk-container-id-1 div.sk-parallel-item::before {content: \"\";position: absolute;border-left: 1px solid gray;box-sizing: border-box;top: 0;bottom: 0;left: 50%;z-index: -1;}#sk-container-id-1 div.sk-parallel-item {display: flex;flex-direction: column;z-index: 1;position: relative;background-color: white;}#sk-container-id-1 div.sk-parallel-item:first-child::after {align-self: flex-end;width: 50%;}#sk-container-id-1 div.sk-parallel-item:last-child::after {align-self: flex-start;width: 50%;}#sk-container-id-1 div.sk-parallel-item:only-child::after {width: 0;}#sk-container-id-1 div.sk-dashed-wrapped {border: 1px dashed gray;margin: 0 0.4em 0.5em 0.4em;box-sizing: border-box;padding-bottom: 0.4em;background-color: white;}#sk-container-id-1 div.sk-label label {font-family: monospace;font-weight: bold;display: inline-block;line-height: 1.2em;}#sk-container-id-1 div.sk-label-container {text-align: center;}#sk-container-id-1 div.sk-container {/* jupyter's `normalize.less` sets `[hidden] { display: none; }` but bootstrap.min.css set `[hidden] { display: none !important; }` so we also need the `!important` here to be able to override the default hidden behavior on the sphinx rendered scikit-learn.org. See: https://github.com/scikit-learn/scikit-learn/issues/21755 */display: inline-block !important;position: relative;}#sk-container-id-1 div.sk-text-repr-fallback {display: none;}</style><div id=\"sk-container-id-1\" class=\"sk-top-container\"><div class=\"sk-text-repr-fallback\"><pre>StandardScaler()</pre><b>In a Jupyter environment, please rerun this cell to show the HTML representation or trust the notebook. <br />On GitHub, the HTML representation is unable to render, please try loading this page with nbviewer.org.</b></div><div class=\"sk-container\" hidden><div class=\"sk-item\"><div class=\"sk-estimator sk-toggleable\"><input class=\"sk-toggleable__control sk-hidden--visually\" id=\"sk-estimator-id-1\" type=\"checkbox\" checked><label for=\"sk-estimator-id-1\" class=\"sk-toggleable__label sk-toggleable__label-arrow\">StandardScaler</label><div class=\"sk-toggleable__content\"><pre>StandardScaler()</pre></div></div></div></div></div>"
      ],
      "text/plain": [
       "StandardScaler()"
      ]
     },
     "execution_count": 28,
     "metadata": {},
     "output_type": "execute_result"
    }
   ],
   "source": [
    "standard_scaler.fit(X_train[numeric_cols])"
   ]
  },
  {
   "cell_type": "code",
   "execution_count": 30,
   "id": "c44b493d",
   "metadata": {},
   "outputs": [
    {
     "data": {
      "text/plain": [
       "['scaler.joblib']"
      ]
     },
     "execution_count": 30,
     "metadata": {},
     "output_type": "execute_result"
    }
   ],
   "source": [
    "import joblib\n",
    "# Save the scaler\n",
    "joblib.dump(standard_scaler, 'scaler.joblib')"
   ]
  },
  {
   "cell_type": "code",
   "execution_count": 31,
   "id": "45e0928f",
   "metadata": {},
   "outputs": [],
   "source": [
    "X_train[numeric_cols] = standard_scaler.transform(X_train[numeric_cols])\n",
    "X_test[numeric_cols] = standard_scaler.transform(X_test[numeric_cols])"
   ]
  },
  {
   "cell_type": "code",
   "execution_count": 32,
   "id": "536cd604",
   "metadata": {},
   "outputs": [
    {
     "data": {
      "text/html": [
       "<div>\n",
       "<style scoped>\n",
       "    .dataframe tbody tr th:only-of-type {\n",
       "        vertical-align: middle;\n",
       "    }\n",
       "\n",
       "    .dataframe tbody tr th {\n",
       "        vertical-align: top;\n",
       "    }\n",
       "\n",
       "    .dataframe thead th {\n",
       "        text-align: right;\n",
       "    }\n",
       "</style>\n",
       "<table border=\"1\" class=\"dataframe\">\n",
       "  <thead>\n",
       "    <tr style=\"text-align: right;\">\n",
       "      <th></th>\n",
       "      <th>gender</th>\n",
       "      <th>age</th>\n",
       "      <th>hypertension</th>\n",
       "      <th>heart_disease</th>\n",
       "      <th>bmi</th>\n",
       "      <th>HbA1c_level</th>\n",
       "      <th>blood_glucose_level</th>\n",
       "    </tr>\n",
       "  </thead>\n",
       "  <tbody>\n",
       "    <tr>\n",
       "      <th>39756</th>\n",
       "      <td>-0.845120</td>\n",
       "      <td>-1.501708</td>\n",
       "      <td>-0.288793</td>\n",
       "      <td>-0.206118</td>\n",
       "      <td>-1.686520</td>\n",
       "      <td>-1.895434</td>\n",
       "      <td>-1.178336</td>\n",
       "    </tr>\n",
       "    <tr>\n",
       "      <th>75304</th>\n",
       "      <td>1.183263</td>\n",
       "      <td>1.032334</td>\n",
       "      <td>3.462687</td>\n",
       "      <td>4.851595</td>\n",
       "      <td>0.175549</td>\n",
       "      <td>3.039956</td>\n",
       "      <td>0.165844</td>\n",
       "    </tr>\n",
       "    <tr>\n",
       "      <th>19765</th>\n",
       "      <td>1.183263</td>\n",
       "      <td>0.987877</td>\n",
       "      <td>3.462687</td>\n",
       "      <td>-0.206118</td>\n",
       "      <td>0.944633</td>\n",
       "      <td>-0.684866</td>\n",
       "      <td>-1.422733</td>\n",
       "    </tr>\n",
       "    <tr>\n",
       "      <th>97291</th>\n",
       "      <td>1.183263</td>\n",
       "      <td>0.321024</td>\n",
       "      <td>-0.288793</td>\n",
       "      <td>-0.206118</td>\n",
       "      <td>-0.807990</td>\n",
       "      <td>-0.498625</td>\n",
       "      <td>-0.200751</td>\n",
       "    </tr>\n",
       "    <tr>\n",
       "      <th>37660</th>\n",
       "      <td>-0.845120</td>\n",
       "      <td>-0.701484</td>\n",
       "      <td>-0.288793</td>\n",
       "      <td>-0.206118</td>\n",
       "      <td>-0.791721</td>\n",
       "      <td>0.153219</td>\n",
       "      <td>0.483559</td>\n",
       "    </tr>\n",
       "  </tbody>\n",
       "</table>\n",
       "</div>"
      ],
      "text/plain": [
       "         gender       age  hypertension  heart_disease       bmi  HbA1c_level  \\\n",
       "39756 -0.845120 -1.501708     -0.288793      -0.206118 -1.686520    -1.895434   \n",
       "75304  1.183263  1.032334      3.462687       4.851595  0.175549     3.039956   \n",
       "19765  1.183263  0.987877      3.462687      -0.206118  0.944633    -0.684866   \n",
       "97291  1.183263  0.321024     -0.288793      -0.206118 -0.807990    -0.498625   \n",
       "37660 -0.845120 -0.701484     -0.288793      -0.206118 -0.791721     0.153219   \n",
       "\n",
       "       blood_glucose_level  \n",
       "39756            -1.178336  \n",
       "75304             0.165844  \n",
       "19765            -1.422733  \n",
       "97291            -0.200751  \n",
       "37660             0.483559  "
      ]
     },
     "execution_count": 32,
     "metadata": {},
     "output_type": "execute_result"
    }
   ],
   "source": [
    "X_train.head()"
   ]
  },
  {
   "cell_type": "markdown",
   "id": "b911dce6",
   "metadata": {},
   "source": [
    "### Logistic Regression using the standard scaling "
   ]
  },
  {
   "cell_type": "code",
   "execution_count": 33,
   "id": "fdba43dd",
   "metadata": {},
   "outputs": [],
   "source": [
    "log_model = LogisticRegression(random_state = 42, class_weight = 'balanced')"
   ]
  },
  {
   "cell_type": "code",
   "execution_count": 34,
   "id": "5c529491",
   "metadata": {},
   "outputs": [
    {
     "data": {
      "text/html": [
       "<style>#sk-container-id-2 {color: black;background-color: white;}#sk-container-id-2 pre{padding: 0;}#sk-container-id-2 div.sk-toggleable {background-color: white;}#sk-container-id-2 label.sk-toggleable__label {cursor: pointer;display: block;width: 100%;margin-bottom: 0;padding: 0.3em;box-sizing: border-box;text-align: center;}#sk-container-id-2 label.sk-toggleable__label-arrow:before {content: \"▸\";float: left;margin-right: 0.25em;color: #696969;}#sk-container-id-2 label.sk-toggleable__label-arrow:hover:before {color: black;}#sk-container-id-2 div.sk-estimator:hover label.sk-toggleable__label-arrow:before {color: black;}#sk-container-id-2 div.sk-toggleable__content {max-height: 0;max-width: 0;overflow: hidden;text-align: left;background-color: #f0f8ff;}#sk-container-id-2 div.sk-toggleable__content pre {margin: 0.2em;color: black;border-radius: 0.25em;background-color: #f0f8ff;}#sk-container-id-2 input.sk-toggleable__control:checked~div.sk-toggleable__content {max-height: 200px;max-width: 100%;overflow: auto;}#sk-container-id-2 input.sk-toggleable__control:checked~label.sk-toggleable__label-arrow:before {content: \"▾\";}#sk-container-id-2 div.sk-estimator input.sk-toggleable__control:checked~label.sk-toggleable__label {background-color: #d4ebff;}#sk-container-id-2 div.sk-label input.sk-toggleable__control:checked~label.sk-toggleable__label {background-color: #d4ebff;}#sk-container-id-2 input.sk-hidden--visually {border: 0;clip: rect(1px 1px 1px 1px);clip: rect(1px, 1px, 1px, 1px);height: 1px;margin: -1px;overflow: hidden;padding: 0;position: absolute;width: 1px;}#sk-container-id-2 div.sk-estimator {font-family: monospace;background-color: #f0f8ff;border: 1px dotted black;border-radius: 0.25em;box-sizing: border-box;margin-bottom: 0.5em;}#sk-container-id-2 div.sk-estimator:hover {background-color: #d4ebff;}#sk-container-id-2 div.sk-parallel-item::after {content: \"\";width: 100%;border-bottom: 1px solid gray;flex-grow: 1;}#sk-container-id-2 div.sk-label:hover label.sk-toggleable__label {background-color: #d4ebff;}#sk-container-id-2 div.sk-serial::before {content: \"\";position: absolute;border-left: 1px solid gray;box-sizing: border-box;top: 0;bottom: 0;left: 50%;z-index: 0;}#sk-container-id-2 div.sk-serial {display: flex;flex-direction: column;align-items: center;background-color: white;padding-right: 0.2em;padding-left: 0.2em;position: relative;}#sk-container-id-2 div.sk-item {position: relative;z-index: 1;}#sk-container-id-2 div.sk-parallel {display: flex;align-items: stretch;justify-content: center;background-color: white;position: relative;}#sk-container-id-2 div.sk-item::before, #sk-container-id-2 div.sk-parallel-item::before {content: \"\";position: absolute;border-left: 1px solid gray;box-sizing: border-box;top: 0;bottom: 0;left: 50%;z-index: -1;}#sk-container-id-2 div.sk-parallel-item {display: flex;flex-direction: column;z-index: 1;position: relative;background-color: white;}#sk-container-id-2 div.sk-parallel-item:first-child::after {align-self: flex-end;width: 50%;}#sk-container-id-2 div.sk-parallel-item:last-child::after {align-self: flex-start;width: 50%;}#sk-container-id-2 div.sk-parallel-item:only-child::after {width: 0;}#sk-container-id-2 div.sk-dashed-wrapped {border: 1px dashed gray;margin: 0 0.4em 0.5em 0.4em;box-sizing: border-box;padding-bottom: 0.4em;background-color: white;}#sk-container-id-2 div.sk-label label {font-family: monospace;font-weight: bold;display: inline-block;line-height: 1.2em;}#sk-container-id-2 div.sk-label-container {text-align: center;}#sk-container-id-2 div.sk-container {/* jupyter's `normalize.less` sets `[hidden] { display: none; }` but bootstrap.min.css set `[hidden] { display: none !important; }` so we also need the `!important` here to be able to override the default hidden behavior on the sphinx rendered scikit-learn.org. See: https://github.com/scikit-learn/scikit-learn/issues/21755 */display: inline-block !important;position: relative;}#sk-container-id-2 div.sk-text-repr-fallback {display: none;}</style><div id=\"sk-container-id-2\" class=\"sk-top-container\"><div class=\"sk-text-repr-fallback\"><pre>LogisticRegression(class_weight=&#x27;balanced&#x27;, random_state=42)</pre><b>In a Jupyter environment, please rerun this cell to show the HTML representation or trust the notebook. <br />On GitHub, the HTML representation is unable to render, please try loading this page with nbviewer.org.</b></div><div class=\"sk-container\" hidden><div class=\"sk-item\"><div class=\"sk-estimator sk-toggleable\"><input class=\"sk-toggleable__control sk-hidden--visually\" id=\"sk-estimator-id-2\" type=\"checkbox\" checked><label for=\"sk-estimator-id-2\" class=\"sk-toggleable__label sk-toggleable__label-arrow\">LogisticRegression</label><div class=\"sk-toggleable__content\"><pre>LogisticRegression(class_weight=&#x27;balanced&#x27;, random_state=42)</pre></div></div></div></div></div>"
      ],
      "text/plain": [
       "LogisticRegression(class_weight='balanced', random_state=42)"
      ]
     },
     "execution_count": 34,
     "metadata": {},
     "output_type": "execute_result"
    }
   ],
   "source": [
    "log_model.fit(X_train, y_train)"
   ]
  },
  {
   "cell_type": "code",
   "execution_count": 35,
   "id": "32204917",
   "metadata": {},
   "outputs": [],
   "source": [
    "train_pred = log_model.predict(X_train)"
   ]
  },
  {
   "cell_type": "code",
   "execution_count": 36,
   "id": "c0a91c5d",
   "metadata": {},
   "outputs": [],
   "source": [
    "test_pred = log_model.predict(X_test)"
   ]
  },
  {
   "cell_type": "code",
   "execution_count": 37,
   "id": "921f26b8",
   "metadata": {
    "scrolled": true
   },
   "outputs": [
    {
     "name": "stdout",
     "output_type": "stream",
     "text": [
      "[[62268  7853]\n",
      " [  811  5970]]\n"
     ]
    }
   ],
   "source": [
    "conf_matrix_train = confusion_matrix(y_train, train_pred)\n",
    "print(conf_matrix_train)"
   ]
  },
  {
   "cell_type": "code",
   "execution_count": 38,
   "id": "1a6d58a7",
   "metadata": {},
   "outputs": [
    {
     "name": "stdout",
     "output_type": "stream",
     "text": [
      "              precision    recall  f1-score   support\n",
      "\n",
      "           0       0.99      0.89      0.93     70121\n",
      "           1       0.43      0.88      0.58      6781\n",
      "\n",
      "    accuracy                           0.89     76902\n",
      "   macro avg       0.71      0.88      0.76     76902\n",
      "weighted avg       0.94      0.89      0.90     76902\n",
      "\n"
     ]
    }
   ],
   "source": [
    "train_report = classification_report(y_train, train_pred)\n",
    "print(train_report)"
   ]
  },
  {
   "cell_type": "code",
   "execution_count": 39,
   "id": "af6d447b",
   "metadata": {},
   "outputs": [
    {
     "name": "stdout",
     "output_type": "stream",
     "text": [
      "-------------------------------------\n",
      "test accuracy: 0.8832310412982419\n",
      "test recall: 0.8700764256319812\n",
      "test precision: 0.4223744292237443\n"
     ]
    }
   ],
   "source": [
    "print(\"-------------------------------------\")\n",
    "print(\"test accuracy: {}\".format(accuracy_score(y_test, test_pred)))\n",
    "print(\"test recall: {}\".format(recall_score(y_test, test_pred)))\n",
    "print(\"test precision: {}\".format(precision_score(y_test, test_pred)))"
   ]
  },
  {
   "cell_type": "code",
   "execution_count": 40,
   "id": "20a0e44f",
   "metadata": {},
   "outputs": [
    {
     "name": "stdout",
     "output_type": "stream",
     "text": [
      "[[15501  2024]\n",
      " [  221  1480]]\n"
     ]
    }
   ],
   "source": [
    "conf_matrix_test = confusion_matrix(y_test, test_pred)\n",
    "print(conf_matrix_test)"
   ]
  },
  {
   "cell_type": "code",
   "execution_count": 41,
   "id": "d35a0569",
   "metadata": {},
   "outputs": [
    {
     "name": "stdout",
     "output_type": "stream",
     "text": [
      "              precision    recall  f1-score   support\n",
      "\n",
      "           0       0.99      0.88      0.93     17525\n",
      "           1       0.42      0.87      0.57      1701\n",
      "\n",
      "    accuracy                           0.88     19226\n",
      "   macro avg       0.70      0.88      0.75     19226\n",
      "weighted avg       0.94      0.88      0.90     19226\n",
      "\n"
     ]
    }
   ],
   "source": [
    "test_report = classification_report(y_test, test_pred)\n",
    "print(test_report)"
   ]
  },
  {
   "cell_type": "code",
   "execution_count": 42,
   "id": "aaa641b9",
   "metadata": {
    "collapsed": true
   },
   "outputs": [
    {
     "data": {
      "text/plain": [
       "\"log_model = LogisticRegression(random_state = 42)\\nparams = {\\n    'penalty' : ['l2', None],\\n    'dual' : [False, True],\\n    'C' : [0.001, 0.01, 0.1],\\n    'fit_intercept' : [True, False],\\n    'class_weight' : [None, 'balanced'],\\n    'solver' : ['lbfgs', 'newton-cg', 'newton-cholesky', 'sag'],\\n    'max_iter': [10, 50, 100, 200],\\n    'warm_start': [True, False],\\n}\\n\\ngrid_search = GridSearchCV(estimator = log_model, param_grid = params, cv=5, scoring = 'f1')\\n\\ngrid_search.fit(X_train, y_train)\\n\\n# Get the best model from the search\\nbest_svm_model = grid_search.best_estimator_\\nbest_params = grid_search.best_params_\\n\\ntrain_pred = grid_search.predict(X_train)\\ntest_pred = grid_search.predict(X_test)\\n\\n# Evaluate the train metric\\ntrain_report = classification_report(y_train, train_pred)\\nprint(train_report)\\n\\nconf_matrix_train = confusion_matrix(y_train, train_pred)\\nprint(conf_matrix_train)\\n\\n# Evaluate the test metric\\ntest_report = classification_report(y_test, test_pred)\\nprint(test_report)\\n\\nconf_matrix_test = confusion_matrix(y_test, test_pred)\\nprint(conf_matrix_test)\\n\\nprint(best_svm_model)\\nprint(best_params)\""
      ]
     },
     "execution_count": 42,
     "metadata": {},
     "output_type": "execute_result"
    }
   ],
   "source": [
    "# Using Grid Search to tune and find the best hyperparameters that increases the recall\n",
    "\n",
    "'''log_model = LogisticRegression(random_state = 42)\n",
    "params = {\n",
    "    'penalty' : ['l2', None],\n",
    "    'dual' : [False, True],\n",
    "    'C' : [0.001, 0.01, 0.1],\n",
    "    'fit_intercept' : [True, False],\n",
    "    'class_weight' : [None, 'balanced'],\n",
    "    'solver' : ['lbfgs', 'newton-cg', 'newton-cholesky', 'sag'],\n",
    "    'max_iter': [10, 50, 100, 200],\n",
    "    'warm_start': [True, False],\n",
    "}\n",
    "\n",
    "grid_search = GridSearchCV(estimator = log_model, param_grid = params, cv=5, scoring = 'f1')\n",
    "\n",
    "grid_search.fit(X_train, y_train)\n",
    "\n",
    "# Get the best model from the search\n",
    "best_svm_model = grid_search.best_estimator_\n",
    "best_params = grid_search.best_params_\n",
    "\n",
    "train_pred = grid_search.predict(X_train)\n",
    "test_pred = grid_search.predict(X_test)\n",
    "\n",
    "# Evaluate the train metric\n",
    "train_report = classification_report(y_train, train_pred)\n",
    "print(train_report)\n",
    "\n",
    "conf_matrix_train = confusion_matrix(y_train, train_pred)\n",
    "print(conf_matrix_train)\n",
    "\n",
    "# Evaluate the test metric\n",
    "test_report = classification_report(y_test, test_pred)\n",
    "print(test_report)\n",
    "\n",
    "conf_matrix_test = confusion_matrix(y_test, test_pred)\n",
    "print(conf_matrix_test)\n",
    "\n",
    "print(best_svm_model)\n",
    "print(best_params)'''"
   ]
  },
  {
   "cell_type": "code",
   "execution_count": 43,
   "id": "e4ff5e6f",
   "metadata": {},
   "outputs": [
    {
     "name": "stdout",
     "output_type": "stream",
     "text": [
      "              precision    recall  f1-score   support\n",
      "\n",
      "           0       0.99      0.89      0.93     70121\n",
      "           1       0.43      0.88      0.58      6781\n",
      "\n",
      "    accuracy                           0.89     76902\n",
      "   macro avg       0.71      0.88      0.76     76902\n",
      "weighted avg       0.94      0.89      0.90     76902\n",
      "\n",
      "              precision    recall  f1-score   support\n",
      "\n",
      "           0       0.99      0.88      0.93     17525\n",
      "           1       0.42      0.87      0.57      1701\n",
      "\n",
      "    accuracy                           0.88     19226\n",
      "   macro avg       0.70      0.88      0.75     19226\n",
      "weighted avg       0.94      0.88      0.90     19226\n",
      "\n",
      "[[62268  7853]\n",
      " [  811  5970]]\n",
      "[[15501  2024]\n",
      " [  221  1480]]\n"
     ]
    }
   ],
   "source": [
    "model = LogisticRegression(random_state = 42, class_weight = 'balanced')\n",
    "model.fit(X_train, y_train)\n",
    "train_pred = model.predict(X_train)\n",
    "test_pred = model.predict(X_test)\n",
    "\n",
    "train_report = classification_report(y_train, train_pred)\n",
    "print(train_report)\n",
    "\n",
    "test_report = classification_report(y_test, test_pred)\n",
    "print(test_report)\n",
    "\n",
    "conf_matrix_train = confusion_matrix(y_train, train_pred)\n",
    "print(conf_matrix_train)\n",
    "\n",
    "conf_matrix_test = confusion_matrix(y_test, test_pred)\n",
    "print(conf_matrix_test)"
   ]
  },
  {
   "cell_type": "code",
   "execution_count": 44,
   "id": "ee6a43d8",
   "metadata": {
    "scrolled": true
   },
   "outputs": [
    {
     "name": "stderr",
     "output_type": "stream",
     "text": [
      "C:\\ProgramData\\anaconda3\\lib\\site-packages\\sklearn\\linear_model\\_logistic.py:458: ConvergenceWarning: lbfgs failed to converge (status=1):\n",
      "STOP: TOTAL NO. of ITERATIONS REACHED LIMIT.\n",
      "\n",
      "Increase the number of iterations (max_iter) or scale the data as shown in:\n",
      "    https://scikit-learn.org/stable/modules/preprocessing.html\n",
      "Please also refer to the documentation for alternative solver options:\n",
      "    https://scikit-learn.org/stable/modules/linear_model.html#logistic-regression\n",
      "  n_iter_i = _check_optimize_result(\n"
     ]
    },
    {
     "name": "stdout",
     "output_type": "stream",
     "text": [
      "[[62511  7610]\n",
      " [  819  5962]]\n",
      "[[15572  1953]\n",
      " [  223  1478]]\n",
      "              precision    recall  f1-score   support\n",
      "\n",
      "           0       0.99      0.89      0.94     70121\n",
      "           1       0.44      0.88      0.59      6781\n",
      "\n",
      "    accuracy                           0.89     76902\n",
      "   macro avg       0.71      0.89      0.76     76902\n",
      "weighted avg       0.94      0.89      0.91     76902\n",
      "\n",
      "              precision    recall  f1-score   support\n",
      "\n",
      "           0       0.99      0.89      0.93     17525\n",
      "           1       0.43      0.87      0.58      1701\n",
      "\n",
      "    accuracy                           0.89     19226\n",
      "   macro avg       0.71      0.88      0.76     19226\n",
      "weighted avg       0.94      0.89      0.90     19226\n",
      "\n"
     ]
    }
   ],
   "source": [
    "model = LogisticRegression(random_state = 42, class_weight = 'balanced', C = 0.001, max_iter = 10)\n",
    "model.fit(X_train, y_train)\n",
    "train_pred = model.predict(X_train)\n",
    "test_pred = model.predict(X_test)\n",
    "\n",
    "conf_matrix_train = confusion_matrix(y_train, train_pred)\n",
    "print(conf_matrix_train)\n",
    "\n",
    "conf_matrix_test = confusion_matrix(y_test, test_pred)\n",
    "print(conf_matrix_test)\n",
    "\n",
    "train_report = classification_report(y_train, train_pred)\n",
    "print(train_report)\n",
    "\n",
    "test_report = classification_report(y_test, test_pred)\n",
    "print(test_report)\n"
   ]
  },
  {
   "cell_type": "code",
   "execution_count": 45,
   "id": "6e744008",
   "metadata": {},
   "outputs": [
    {
     "name": "stdout",
     "output_type": "stream",
     "text": [
      "accuracy: 0.8868199313429731\n",
      "recall: 0.8689006466784245\n"
     ]
    }
   ],
   "source": [
    "print(\"accuracy: {}\".format(accuracy_score(y_test, test_pred)))\n",
    "print(\"recall: {}\".format(recall_score(y_test, test_pred)))"
   ]
  },
  {
   "cell_type": "markdown",
   "id": "4e811691",
   "metadata": {},
   "source": [
    "Logistic Regression Model gives us an accuracy of **89%** and a recall of **87%** on the test data"
   ]
  },
  {
   "cell_type": "markdown",
   "id": "10728a62",
   "metadata": {},
   "source": [
    "Why are we using the recall metric in coresspondance to the accuracy?\n",
    "\n",
    "Because, the cost of predicting a class to be non-diabetic when it is actually diabetic is high.\n",
    "\n",
    "In a real-world context, let's consider a medical diagnosis scenario where the positive class corresponds to a severe medical condition (e.g., cancer). The cost of missing a positive case (false negatives) is high because it means failing to diagnose a critical condition."
   ]
  },
  {
   "cell_type": "markdown",
   "id": "4db909b9",
   "metadata": {},
   "source": [
    "### Random Forest Classifier"
   ]
  },
  {
   "cell_type": "code",
   "execution_count": 46,
   "id": "e3ac7449",
   "metadata": {},
   "outputs": [
    {
     "name": "stdout",
     "output_type": "stream",
     "text": [
      "              precision    recall  f1-score   support\n",
      "\n",
      "           0       1.00      1.00      1.00     70121\n",
      "           1       1.00      0.98      0.99      6781\n",
      "\n",
      "    accuracy                           1.00     76902\n",
      "   macro avg       1.00      0.99      0.99     76902\n",
      "weighted avg       1.00      1.00      1.00     76902\n",
      "\n",
      "              precision    recall  f1-score   support\n",
      "\n",
      "           0       0.97      0.99      0.98     17525\n",
      "           1       0.92      0.67      0.78      1701\n",
      "\n",
      "    accuracy                           0.97     19226\n",
      "   macro avg       0.94      0.83      0.88     19226\n",
      "weighted avg       0.96      0.97      0.96     19226\n",
      "\n",
      "[[70106    15]\n",
      " [  135  6646]]\n",
      "[[17427    98]\n",
      " [  559  1142]]\n"
     ]
    }
   ],
   "source": [
    "model2 = RandomForestClassifier(random_state = 42)\n",
    "model2.fit(X_train, y_train)\n",
    "\n",
    "train_pred2 = model2.predict(X_train)\n",
    "test_pred2 = model2.predict(X_test)\n",
    "\n",
    "train_report2 = classification_report(y_train, train_pred2)\n",
    "print(train_report2)\n",
    "\n",
    "test_report2 = classification_report(y_test, test_pred2)\n",
    "print(test_report2)\n",
    "\n",
    "conf_matrix_train2 = confusion_matrix(y_train, train_pred2)\n",
    "print(conf_matrix_train2)\n",
    "\n",
    "conf_matrix_test2 = confusion_matrix(y_test, test_pred2)\n",
    "print(conf_matrix_test2)"
   ]
  },
  {
   "cell_type": "code",
   "execution_count": null,
   "id": "5a49a6b3",
   "metadata": {},
   "outputs": [],
   "source": [
    "'''Using Grid Search to tune and find the best hyperparameters that increases the recall\n",
    "\n",
    "model2 = RandomForestClassifier(random_state = 42)\n",
    "params = {\n",
    "    'n_estimators' : [10, 50, 100],\n",
    "    'criterion' : ['gini', 'entropy', 'log_loss'],\n",
    "    'max_depth' : [10, 50, 100],\n",
    "    'min_samples_split' : [2, 3, 4],\n",
    "    'min_samples_leaf' : [1, 2, 3],\n",
    "    'max_features' : ['sqrt', 'log2', None],\n",
    "    'max_leaf_nodes': [2, 3, 4],\n",
    "    'bootstrap': [True, False]\n",
    "}\n",
    "\n",
    "grid_search = GridSearchCV(estimator = model2, param_grid = params, cv=5, scoring = 'recall')\n",
    "\n",
    "grid_search.fit(X_train, y_train)\n",
    "\n",
    "# Get the best model from the search\n",
    "best_svm_model = grid_search.best_estimator_\n",
    "best_params = grid_search.best_params_\n",
    "\n",
    "train_pred = grid_search.predict(X_train)\n",
    "test_pred = grid_search.predict(X_test)\n",
    "\n",
    "# Evaluate the train metric\n",
    "train_report = classification_report(y_train, train_pred)\n",
    "print(train_report)\n",
    "\n",
    "conf_matrix_train = confusion_matrix(y_train, train_pred)\n",
    "print(conf_matrix_train)\n",
    "\n",
    "# Evaluate the test metric\n",
    "test_report = classification_report(y_test, test_pred)\n",
    "print(test_report)\n",
    "\n",
    "conf_matrix_test = confusion_matrix(y_test, test_pred)\n",
    "print(conf_matrix_test)\n",
    "\n",
    "print(best_svm_model)\n",
    "print(best_params)'''"
   ]
  },
  {
   "cell_type": "code",
   "execution_count": 47,
   "id": "5df6758d",
   "metadata": {},
   "outputs": [
    {
     "name": "stdout",
     "output_type": "stream",
     "text": [
      "              precision    recall  f1-score   support\n",
      "\n",
      "           0       0.99      0.92      0.95     70121\n",
      "           1       0.51      0.89      0.65      6781\n",
      "\n",
      "    accuracy                           0.92     76902\n",
      "   macro avg       0.75      0.90      0.80     76902\n",
      "weighted avg       0.95      0.92      0.93     76902\n",
      "\n",
      "[[64437  5684]\n",
      " [  764  6017]]\n",
      "              precision    recall  f1-score   support\n",
      "\n",
      "           0       0.99      0.92      0.95     17525\n",
      "           1       0.51      0.88      0.65      1701\n",
      "\n",
      "    accuracy                           0.92     19226\n",
      "   macro avg       0.75      0.90      0.80     19226\n",
      "weighted avg       0.95      0.92      0.93     19226\n",
      "\n",
      "[[16108  1417]\n",
      " [  208  1493]]\n"
     ]
    }
   ],
   "source": [
    "model2 = RandomForestClassifier(random_state = 42, class_weight = 'balanced', max_depth = 10, max_leaf_nodes = 10, min_samples_leaf = 10, max_samples = 1001)\n",
    "model2.fit(X_train, y_train)\n",
    "\n",
    "train_pred = model2.predict(X_train)\n",
    "test_pred = model2.predict(X_test)\n",
    "\n",
    "# Evaluate the train metric\n",
    "train_report = classification_report(y_train, train_pred)\n",
    "print(train_report)\n",
    "\n",
    "conf_matrix_train = confusion_matrix(y_train, train_pred)\n",
    "print(conf_matrix_train)\n",
    "\n",
    "# Evaluate the test metric\n",
    "test_report = classification_report(y_test, test_pred)\n",
    "print(test_report)\n",
    "\n",
    "conf_matrix_test = confusion_matrix(y_test, test_pred)\n",
    "print(conf_matrix_test)"
   ]
  },
  {
   "cell_type": "code",
   "execution_count": 48,
   "id": "3ea04b41",
   "metadata": {},
   "outputs": [
    {
     "name": "stdout",
     "output_type": "stream",
     "text": [
      "accuracy: 0.9154790388016228\n",
      "recall: 0.8777189888300999\n"
     ]
    }
   ],
   "source": [
    "print(\"accuracy: {}\".format(accuracy_score(y_test, test_pred)))\n",
    "print(\"recall: {}\".format(recall_score(y_test, test_pred)))"
   ]
  },
  {
   "cell_type": "markdown",
   "id": "52803067",
   "metadata": {},
   "source": [
    "Random Forest Classifier Model gave us an accuracy of **92%** and a recall of **88%** on the test data"
   ]
  },
  {
   "cell_type": "markdown",
   "id": "c2bc3e16",
   "metadata": {},
   "source": [
    "Now, as we can see from the both model, Random Forest Model is a better choice for this set of data, and on our project aim."
   ]
  },
  {
   "cell_type": "code",
   "execution_count": 49,
   "id": "fc8719d4",
   "metadata": {},
   "outputs": [
    {
     "data": {
      "text/plain": [
       "['trained_model2.joblib']"
      ]
     },
     "execution_count": 49,
     "metadata": {},
     "output_type": "execute_result"
    }
   ],
   "source": [
    "# extracting the model for the web application build up\n",
    "import joblib\n",
    "\n",
    "# Saving the trained model to a file\n",
    "joblib.dump(model2, 'trained_model2.joblib')"
   ]
  },
  {
   "cell_type": "code",
   "execution_count": 51,
   "id": "e95df25f",
   "metadata": {},
   "outputs": [],
   "source": [
    "# defining a function that collects users input, convert to a dataframe, preprocesses the data, and make predictions with\n",
    "# a degree of certainty\n",
    "\n",
    "import joblib\n",
    "import pandas as pd\n",
    "from sklearn.preprocessing import StandardScaler\n",
    "from sklearn.ensemble import RandomForestClassifier\n",
    "\n",
    "def prediction(gender, age, hypertension, heart_disease, bmi, HbA1c_level, blood_glucose_level):\n",
    "\n",
    "    dic = {\n",
    "        'gender': [gender],\n",
    "        'age': [age],\n",
    "        'hypertension': [hypertension], \n",
    "        'heart_disease': [heart_disease], \n",
    "        'bmi': [bmi],\n",
    "        'HbA1c_level': [HbA1c_level],\n",
    "        'blood_glucose_level': [blood_glucose_level]\n",
    "    }\n",
    "    \n",
    "    user_input = pd.DataFrame(dic)\n",
    "    \n",
    "    numeric_cols = ['gender', 'age', 'hypertension', 'heart_disease', 'bmi', 'HbA1c_level', 'blood_glucose_level']\n",
    "    \n",
    "    # mapping the gender column to Male : 1, Female : 0\n",
    "    user_input['gender'] = user_input['gender'].map({'Male': 1, 'Female': 0})\n",
    "    user_input['hypertension'] = user_input['hypertension'].map({'Yes': 1, 'No': 0})\n",
    "    user_input['heart_disease'] = user_input['heart_disease'].map({'Yes': 1, 'No': 0})\n",
    "    \n",
    "    loaded_scaler = joblib.load('scaler.joblib')\n",
    "    user_input[numeric_cols] = loaded_scaler.transform(user_input[numeric_cols])\n",
    "    \n",
    "    print(user_input)\n",
    "    \n",
    "    loaded_model = joblib.load('trained_model2.joblib')\n",
    "    pred = loaded_model.predict(user_input)\n",
    "    pred_proba = loaded_model.predict_proba(user_input)\n",
    "    \n",
    "    if pred == 1:\n",
    "        return True, pred_proba[:, 1]\n",
    "    \n",
    "    else:\n",
    "        return False, pred_proba[:, 0]\n"
   ]
  },
  {
   "cell_type": "code",
   "execution_count": 78,
   "id": "65fb240e",
   "metadata": {},
   "outputs": [
    {
     "name": "stdout",
     "output_type": "stream",
     "text": [
      "    gender       age  hypertension  heart_disease        bmi  HbA1c_level  \\\n",
      "0 -0.84512  1.699187     -0.288793      -0.206118  18.146962    -4.223448   \n",
      "\n",
      "   blood_glucose_level  \n",
      "0             0.532439  \n"
     ]
    }
   ],
   "source": [
    "diabetes, proba = prediction('Female', 80, 'No', 'No', 150, 1, 160)"
   ]
  },
  {
   "cell_type": "code",
   "execution_count": 79,
   "id": "12c740ac",
   "metadata": {},
   "outputs": [
    {
     "name": "stdout",
     "output_type": "stream",
     "text": [
      "False\n",
      "[0.72249321]\n"
     ]
    }
   ],
   "source": [
    "print(diabetes)\n",
    "print(proba)"
   ]
  },
  {
   "cell_type": "code",
   "execution_count": 80,
   "id": "fe30bf92",
   "metadata": {},
   "outputs": [
    {
     "data": {
      "text/plain": [
       "array([0.00435709, 0.19628533, 0.03472049, 0.01305892, 0.11403999,\n",
       "       0.35179304, 0.28574514])"
      ]
     },
     "execution_count": 80,
     "metadata": {},
     "output_type": "execute_result"
    }
   ],
   "source": [
    "model2.feature_importances_"
   ]
  },
  {
   "cell_type": "code",
   "execution_count": 85,
   "id": "003ace58",
   "metadata": {},
   "outputs": [
    {
     "data": {
      "image/png": "[encoded data removed]",
      "text/plain": [
       "<Figure size 640x480 with 1 Axes>"
      ]
     },
     "metadata": {},
     "output_type": "display_data"
    }
   ],
   "source": [
    "import seaborn as sns\n",
    "import matplotlib.pyplot as plt\n",
    "\n",
    "plt.bar(x = X.columns, height = model2.feature_importances_);\n",
    "plt.xticks(rotation=45, ha='right');"
   ]
  }
 ],
 "metadata": {
  "kernelspec": {
   "display_name": "Python 3 (ipykernel)",
   "language": "python",
   "name": "python3"
  },
  "language_info": {
   "codemirror_mode": {
    "name": "ipython",
    "version": 3
   },
   "file_extension": ".py",
   "mimetype": "text/x-python",
   "name": "python",
   "nbconvert_exporter": "python",
   "pygments_lexer": "ipython3",
   "version": "3.10.9"
  }
 },
 "nbformat": 4,
 "nbformat_minor": 5
}
